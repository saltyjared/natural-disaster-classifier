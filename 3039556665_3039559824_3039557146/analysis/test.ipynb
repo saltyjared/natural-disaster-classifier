{
 "cells": [
  {
   "cell_type": "code",
   "execution_count": 1,
   "metadata": {},
   "outputs": [
    {
     "name": "stderr",
     "output_type": "stream",
     "text": [
      "/var/folders/q0/qj0r7jj952ngj7mn6px78_gw0000gn/T/ipykernel_7168/894192956.py:2: DeprecationWarning: \n",
      "Pyarrow will become a required dependency of pandas in the next major release of pandas (pandas 3.0),\n",
      "(to allow more performant data types, such as the Arrow string type, and better interoperability with other libraries)\n",
      "but was not found to be installed on your system.\n",
      "If this would cause problems for you,\n",
      "please provide us feedback at https://github.com/pandas-dev/pandas/issues/54466\n",
      "        \n",
      "  import pandas as pd\n"
     ]
    },
    {
     "name": "stdout",
     "output_type": "stream",
     "text": [
      "(15384, 16)\n",
      "Index(['image_matrix', 'disaster', 'label', 'height', 'width', 'aspect_ratio',\n",
      "       'total_pixels', 'avg_pixel_int', 'lbp_var', 'lbp_mean', 'sobel_mean',\n",
      "       'gabor_7_var', 'gabor_3_var', 'area of red pixels at 150 threshold',\n",
      "       'area of green pixels at 150 threshold',\n",
      "       'area of blue pixels at 150 threshold'],\n",
      "      dtype='object')\n",
      "(15384, 13)\n",
      "Index(['height', 'width', 'aspect_ratio', 'total_pixels', 'avg_pixel_int',\n",
      "       'lbp_var', 'lbp_mean', 'sobel_mean', 'gabor_7_var', 'gabor_3_var',\n",
      "       'area of red pixels at 150 threshold',\n",
      "       'area of green pixels at 150 threshold',\n",
      "       'area of blue pixels at 150 threshold'],\n",
      "      dtype='object')\n",
      "(15384,)\n",
      "9256     midwest-flooding\n",
      "12151    midwest-flooding\n",
      "14475    midwest-flooding\n",
      "13197    midwest-flooding\n",
      "4663           socal-fire\n",
      "Name: disaster, dtype: object\n"
     ]
    }
   ],
   "source": [
    "import numpy as np\n",
    "import pandas as pd\n",
    "import matplotlib.pyplot as plt\n",
    "import warnings\n",
    "warnings.filterwarnings(\"ignore\")\n",
    "import seaborn as sns\n",
    "from sklearn.pipeline import Pipeline\n",
    "from sklearn.preprocessing import StandardScaler\n",
    "from sklearn.model_selection import train_test_split\n",
    "from sklearn.pipeline import Pipeline\n",
    "from sklearn.model_selection import GridSearchCV, cross_val_score\n",
    "from sklearn.decomposition import PCA\n",
    "from sklearn.svm import LinearSVC\n",
    "from sklearn.ensemble import RandomForestClassifier\n",
    "from sklearn.metrics import confusion_matrix, classification_report\n",
    "import pickle\n",
    "\n",
    "# Import data from Task A in current configuration\n",
    "Task_A_Data = pd.read_csv('../data/task-data/task-A.csv')\n",
    "print(Task_A_Data.shape)\n",
    "print(Task_A_Data.columns)\n",
    "\n",
    "Task_A_Data_X = Task_A_Data.iloc[:,3:]\n",
    "print(Task_A_Data_X.shape)\n",
    "print(Task_A_Data_X.columns)\n",
    "\n",
    "Task_A_Data_Y = Task_A_Data.iloc[:,1]\n",
    "print(Task_A_Data_Y.shape)\n",
    "print(Task_A_Data_Y.sample(n=5))"
   ]
  },
  {
   "cell_type": "code",
   "execution_count": 2,
   "metadata": {},
   "outputs": [
    {
     "name": "stdout",
     "output_type": "stream",
     "text": [
      "Initial training score: 0.9809051759161452\n",
      "Initial validation score: 0.9788755281117972\n",
      "Average cross-validation score across 10 folds: 0.9817988476464967\n"
     ]
    }
   ],
   "source": [
    "# Optimal_pipe is the model, using the same data \n",
    "# I recreated the current config for comparison\n",
    "\n",
    "\n",
    "optimal_pipe = Pipeline([('scaler', StandardScaler()),\n",
    "                         ('svc', LinearSVC(C=10, max_iter=1000))]) # default penalty is 'l2'\n",
    "\n",
    "X_train, X_val, y_train, y_val = train_test_split(Task_A_Data_X, Task_A_Data_Y, test_size=0.2, random_state=42)\n",
    "optimal_pipe.fit(X_train, y_train)\n",
    "svc_train_preds = optimal_pipe.predict(X_train)\n",
    "svc_train_score = optimal_pipe.score(X_train, y_train)\n",
    "svc_val_preds = optimal_pipe.predict(X_val)\n",
    "svc_val_score = optimal_pipe.score(X_val, y_val)\n",
    "svc_cv_score = cross_val_score(optimal_pipe, Task_A_Data_X, Task_A_Data_Y, cv=10)\n",
    "print(f'Initial training score: {svc_train_score}')\n",
    "print(f'Initial validation score: {svc_val_score}')\n",
    "print(f'Average cross-validation score across 10 folds: {svc_cv_score.mean()}')"
   ]
  },
  {
   "cell_type": "code",
   "execution_count": 3,
   "metadata": {},
   "outputs": [
    {
     "name": "stdout",
     "output_type": "stream",
     "text": [
      "Initial training score: 0.9949622166246851\n",
      "Initial validation score: 0.9808254793630159\n",
      "Average cross-validation score across 10 folds: 0.9849190234653242\n"
     ]
    }
   ],
   "source": [
    "# RF dumped into task_A_model\n",
    "\n",
    "optimal_pipe = Pipeline([('scaler', StandardScaler()),\n",
    "                         ('rfc', RandomForestClassifier(max_depth=10, max_features='sqrt', n_estimators=10, random_state=42))])\n",
    "\n",
    "X_train, X_val, y_train, y_val = train_test_split(Task_A_Data_X, Task_A_Data_Y, test_size=0.2, random_state=42)\n",
    "optimal_pipe.fit(X_train, y_train)\n",
    "rfc_train_preds = optimal_pipe.predict(X_train)\n",
    "rfc_train_score = optimal_pipe.score(X_train, y_train)\n",
    "rfc_val_preds = optimal_pipe.predict(X_val)\n",
    "rfc_val_score = optimal_pipe.score(X_val, y_val)\n",
    "rfc_cv_score = cross_val_score(optimal_pipe, Task_A_Data_X, Task_A_Data_Y, cv=10)\n",
    "print(f'Initial training score: {rfc_train_score}')\n",
    "print(f'Initial validation score: {rfc_val_score}')\n",
    "print(f'Average cross-validation score across 10 folds: {rfc_cv_score.mean()}')"
   ]
  },
  {
   "cell_type": "code",
   "execution_count": 4,
   "metadata": {},
   "outputs": [
    {
     "name": "stdout",
     "output_type": "stream",
     "text": [
      "(15384, 40)\n",
      "Index(['disaster', 'label', 'height', 'width', 'aspect_ratio', 'total_pixels',\n",
      "       'avg_pixel_int', 'area of red pixels at 150 threshold',\n",
      "       'area of green pixels at 150 threshold',\n",
      "       'area of blue pixels at 150 threshold', 'sobel_mean', 'sobel_var',\n",
      "       'gabor_0_mean', 'gabor_0_var', 'gabor_1_mean', 'gabor_1_var',\n",
      "       'gabor_2_mean', 'gabor_2_var', 'gabor_3_mean', 'gabor_3_var',\n",
      "       'gabor_4_mean', 'gabor_4_var', 'gabor_5_mean', 'gabor_5_var',\n",
      "       'gabor_6_mean', 'gabor_6_var', 'gabor_7_mean', 'gabor_7_var',\n",
      "       'gabor_8_mean', 'gabor_8_var', 'gabor_9_mean', 'gabor_9_var',\n",
      "       'gabor_10_mean', 'gabor_10_var', 'gabor_11_mean', 'gabor_11_var',\n",
      "       'lbp_mean', 'lbp_var', 'disaster.1', 'damage_label'],\n",
      "      dtype='object')\n",
      "(15384, 36)\n",
      "Index(['height', 'width', 'aspect_ratio', 'total_pixels', 'avg_pixel_int',\n",
      "       'area of red pixels at 150 threshold',\n",
      "       'area of green pixels at 150 threshold',\n",
      "       'area of blue pixels at 150 threshold', 'sobel_mean', 'sobel_var',\n",
      "       'gabor_0_mean', 'gabor_0_var', 'gabor_1_mean', 'gabor_1_var',\n",
      "       'gabor_2_mean', 'gabor_2_var', 'gabor_3_mean', 'gabor_3_var',\n",
      "       'gabor_4_mean', 'gabor_4_var', 'gabor_5_mean', 'gabor_5_var',\n",
      "       'gabor_6_mean', 'gabor_6_var', 'gabor_7_mean', 'gabor_7_var',\n",
      "       'gabor_8_mean', 'gabor_8_var', 'gabor_9_mean', 'gabor_9_var',\n",
      "       'gabor_10_mean', 'gabor_10_var', 'gabor_11_mean', 'gabor_11_var',\n",
      "       'lbp_mean', 'lbp_var'],\n",
      "      dtype='object')\n",
      "(15384,)\n"
     ]
    }
   ],
   "source": [
    "# Import data from Task A in current configuration\n",
    "Task_A_Complete_Data = pd.read_csv('../data/task-data/complete_df_test.csv')\n",
    "print(Task_A_Complete_Data.shape)\n",
    "print(Task_A_Complete_Data.columns)\n",
    "\n",
    "Task_A_Complete_Data_X = Task_A_Complete_Data.iloc[:,2:-2]\n",
    "print(Task_A_Complete_Data_X.shape)\n",
    "print(Task_A_Complete_Data_X.columns)\n",
    "\n",
    "Task_A_Complete_Data_Y = Task_A_Complete_Data.iloc[:,0]\n",
    "print(Task_A_Complete_Data_Y.shape)\n",
    "# print(Task_A_Complete_Data_Y.sample(n=5))"
   ]
  },
  {
   "cell_type": "code",
   "execution_count": 5,
   "metadata": {},
   "outputs": [
    {
     "name": "stdout",
     "output_type": "stream",
     "text": [
      "height\n",
      "int64\n",
      "width\n",
      "int64\n",
      "aspect_ratio\n",
      "float64\n",
      "total_pixels\n",
      "int64\n",
      "avg_pixel_int\n",
      "float64\n",
      "area of red pixels at 150 threshold\n",
      "float64\n",
      "area of green pixels at 150 threshold\n",
      "float64\n",
      "area of blue pixels at 150 threshold\n",
      "float64\n",
      "sobel_mean\n",
      "float64\n",
      "sobel_var\n",
      "float64\n",
      "gabor_0_mean\n",
      "float64\n",
      "gabor_0_var\n",
      "float64\n",
      "gabor_1_mean\n",
      "float64\n",
      "gabor_1_var\n",
      "float64\n",
      "gabor_2_mean\n",
      "float64\n",
      "gabor_2_var\n",
      "float64\n",
      "gabor_3_mean\n",
      "float64\n",
      "gabor_3_var\n",
      "float64\n",
      "gabor_4_mean\n",
      "float64\n",
      "gabor_4_var\n",
      "float64\n",
      "gabor_5_mean\n",
      "float64\n",
      "gabor_5_var\n",
      "float64\n",
      "gabor_6_mean\n",
      "float64\n",
      "gabor_6_var\n",
      "float64\n",
      "gabor_7_mean\n",
      "float64\n",
      "gabor_7_var\n",
      "float64\n",
      "gabor_8_mean\n",
      "float64\n",
      "gabor_8_var\n",
      "float64\n",
      "gabor_9_mean\n",
      "float64\n",
      "gabor_9_var\n",
      "float64\n",
      "gabor_10_mean\n",
      "float64\n",
      "gabor_10_var\n",
      "float64\n",
      "gabor_11_mean\n",
      "float64\n",
      "gabor_11_var\n",
      "float64\n",
      "lbp_mean\n",
      "float64\n",
      "lbp_var\n",
      "float64\n"
     ]
    }
   ],
   "source": [
    "for col in Task_A_Complete_Data_X.columns:\n",
    "    print(col)\n",
    "    print(Task_A_Complete_Data_X[col].dtype)"
   ]
  },
  {
   "cell_type": "code",
   "execution_count": 6,
   "metadata": {},
   "outputs": [
    {
     "name": "stdout",
     "output_type": "stream",
     "text": [
      "NaNs remain in the dataset.\n",
      "Original features shape: (15384, 36)\n",
      "Shape of cleaned features: (11151, 36)\n",
      "Shape of cleaned labels: (11151,)\n"
     ]
    }
   ],
   "source": [
    "scaler = StandardScaler()\n",
    "scaled_Task_A_Complete_Data_X = scaler.fit_transform(Task_A_Complete_Data_X)\n",
    "\n",
    "# Check if there are any NaNs left\n",
    "if np.isnan(scaled_Task_A_Complete_Data_X).any():\n",
    "    print(\"NaNs remain in the dataset.\")\n",
    "    mask = ~np.isnan(scaled_Task_A_Complete_Data_X).any(axis=1)\n",
    "    cleaned_scaled_Task_A_Complete_Data_X  = scaled_Task_A_Complete_Data_X[mask]\n",
    "    cleaned_Task_A_Complete_Data_Y  = Task_A_Complete_Data_Y[mask]\n",
    "    print(\"Original features shape:\", scaled_Task_A_Complete_Data_X.shape)\n",
    "    print(\"Shape of cleaned features:\", cleaned_scaled_Task_A_Complete_Data_X.shape)\n",
    "    print(\"Shape of cleaned labels:\", cleaned_Task_A_Complete_Data_Y.shape)\n",
    "\n",
    "    pca = PCA(n_components=0.99)\n",
    "    pca.fit(cleaned_scaled_Task_A_Complete_Data_X)\n",
    "    pca_cleaned_scaled_Task_A_Complete_Data_X = pca.transform(cleaned_scaled_Task_A_Complete_Data_X)\n",
    "else:\n",
    "    print(\"No NaNs in the dataset. Proceeding with PCA.\")\n",
    "    pca = PCA(n_components=0.95)\n",
    "    pca.fit(scaled_Task_A_Complete_Data_X)\n",
    "    pca_cleaned_scaled_Task_A_Complete_Data_X = pca.transform(scaled_Task_A_Complete_Data_X)"
   ]
  },
  {
   "cell_type": "code",
   "execution_count": 7,
   "metadata": {},
   "outputs": [
    {
     "data": {
      "image/png": "[encoded data removed]",
      "text/plain": [
       "<Figure size 800x400 with 1 Axes>"
      ]
     },
     "metadata": {},
     "output_type": "display_data"
    }
   ],
   "source": [
    "# Plotting the Cumulative Summation of the Explained Variance\n",
    "plt.figure(figsize=(8, 4))\n",
    "plt.plot(np.cumsum(pca.explained_variance_ratio_))\n",
    "plt.xlabel('Number of Components')\n",
    "plt.ylabel('Variance (%)')  # for each component\n",
    "plt.title('Explained Variance')\n",
    "plt.grid(True)\n",
    "plt.show()"
   ]
  },
  {
   "cell_type": "code",
   "execution_count": 8,
   "metadata": {},
   "outputs": [
    {
     "name": "stdout",
     "output_type": "stream",
     "text": [
      "Initial training score: 0.9834080717488789\n",
      "Initial validation score: 0.976692066337965\n",
      "Average cross-validation score across 10 folds: 0.9831399778195669\n"
     ]
    }
   ],
   "source": [
    "# Recreate the SVC model with PCA data to compare\n",
    "\n",
    "optimal_pipe = Pipeline([('scaler', StandardScaler()),\n",
    "                         ('svc', LinearSVC(C=10, max_iter=1000))]) # default penalty is 'l2'\n",
    "\n",
    "X_train, X_val, y_train, y_val = train_test_split(pca_cleaned_scaled_Task_A_Complete_Data_X, cleaned_Task_A_Complete_Data_Y, test_size=0.2, random_state=42)\n",
    "optimal_pipe.fit(X_train, y_train)\n",
    "svc_train_preds = optimal_pipe.predict(X_train)\n",
    "svc_train_score = optimal_pipe.score(X_train, y_train)\n",
    "svc_val_preds = optimal_pipe.predict(X_val)\n",
    "svc_val_score = optimal_pipe.score(X_val, y_val)\n",
    "svc_cv_score = cross_val_score(optimal_pipe, pca_cleaned_scaled_Task_A_Complete_Data_X, cleaned_Task_A_Complete_Data_Y, cv=10)\n",
    "print(f'Initial training score: {svc_train_score}')\n",
    "print(f'Initial validation score: {svc_val_score}')\n",
    "print(f'Average cross-validation score across 10 folds: {svc_cv_score.mean()}')"
   ]
  },
  {
   "cell_type": "code",
   "execution_count": 9,
   "metadata": {},
   "outputs": [
    {
     "name": "stdout",
     "output_type": "stream",
     "text": [
      "Initial training score: 0.9955156950672646\n",
      "Initial validation score: 0.9757956073509637\n",
      "Average cross-validation score across 10 folds: 0.9791044248356557\n"
     ]
    }
   ],
   "source": [
    "# Recreate the RF model with PCA data to compare\n",
    "optimal_pipe = Pipeline([('scaler', StandardScaler()),\n",
    "                         ('rfc', RandomForestClassifier(max_depth=10, max_features='sqrt', n_estimators=10, random_state=42))])\n",
    "\n",
    "X_train, X_val, y_train, y_val = train_test_split(pca_cleaned_scaled_Task_A_Complete_Data_X, cleaned_Task_A_Complete_Data_Y, test_size=0.2, random_state=42)\n",
    "optimal_pipe.fit(X_train, y_train)\n",
    "rfc_train_preds = optimal_pipe.predict(X_train)\n",
    "rfc_train_score = optimal_pipe.score(X_train, y_train)\n",
    "rfc_val_preds = optimal_pipe.predict(X_val)\n",
    "rfc_val_score = optimal_pipe.score(X_val, y_val)\n",
    "rfc_cv_score = cross_val_score(optimal_pipe, pca_cleaned_scaled_Task_A_Complete_Data_X, cleaned_Task_A_Complete_Data_Y, cv=10)\n",
    "print(f'Initial training score: {rfc_train_score}')\n",
    "print(f'Initial validation score: {rfc_val_score}')\n",
    "print(f'Average cross-validation score across 10 folds: {rfc_cv_score.mean()}')"
   ]
  },
  {
   "cell_type": "code",
   "execution_count": null,
   "metadata": {},
   "outputs": [],
   "source": []
  }
 ],
 "metadata": {
  "kernelspec": {
   "display_name": "Python 3",
   "language": "python",
   "name": "python3"
  },
  "language_info": {
   "codemirror_mode": {
    "name": "ipython",
    "version": 3
   },
   "file_extension": ".py",
   "mimetype": "text/x-python",
   "name": "python",
   "nbconvert_exporter": "python",
   "pygments_lexer": "ipython3",
   "version": "3.10.13"
  }
 },
 "nbformat": 4,
 "nbformat_minor": 2
}
