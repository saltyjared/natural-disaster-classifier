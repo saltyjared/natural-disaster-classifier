{
 "cells": [
  {
   "cell_type": "code",
   "execution_count": 1,
   "metadata": {},
   "outputs": [],
   "source": [
    "import pandas as pd\n",
    "\n",
    "testing = pd.read_csv('../data/task-data/task-1.csv')"
   ]
  },
  {
   "cell_type": "code",
   "execution_count": 2,
   "metadata": {},
   "outputs": [
    {
     "data": {
      "text/html": [
       "<div>\n",
       "<style scoped>\n",
       "    .dataframe tbody tr th:only-of-type {\n",
       "        vertical-align: middle;\n",
       "    }\n",
       "\n",
       "    .dataframe tbody tr th {\n",
       "        vertical-align: top;\n",
       "    }\n",
       "\n",
       "    .dataframe thead th {\n",
       "        text-align: right;\n",
       "    }\n",
       "</style>\n",
       "<table border=\"1\" class=\"dataframe\">\n",
       "  <thead>\n",
       "    <tr style=\"text-align: right;\">\n",
       "      <th></th>\n",
       "      <th>image_matrix</th>\n",
       "      <th>disaster</th>\n",
       "      <th>label</th>\n",
       "      <th>height</th>\n",
       "      <th>width</th>\n",
       "      <th>aspect_ratio</th>\n",
       "      <th>total_pixels</th>\n",
       "      <th>avg_pixel_int</th>\n",
       "      <th>lbp_var</th>\n",
       "      <th>lbp_mean</th>\n",
       "      <th>sobel_mean</th>\n",
       "      <th>gabor_7_var</th>\n",
       "      <th>gabor_3_var</th>\n",
       "      <th>area of red pixels at 150 threshold</th>\n",
       "      <th>area of green pixels at 150 threshold</th>\n",
       "      <th>area of blue pixels at 150 threshold</th>\n",
       "    </tr>\n",
       "  </thead>\n",
       "  <tbody>\n",
       "    <tr>\n",
       "      <th>0</th>\n",
       "      <td>[[[ 50  72  48]\\n  [ 49  71  47]\\n  [ 49  71  ...</td>\n",
       "      <td>socal-fire</td>\n",
       "      <td>0</td>\n",
       "      <td>144</td>\n",
       "      <td>195</td>\n",
       "      <td>1.354167</td>\n",
       "      <td>28080</td>\n",
       "      <td>122.675415</td>\n",
       "      <td>4.963108</td>\n",
       "      <td>4.652137</td>\n",
       "      <td>0.048752</td>\n",
       "      <td>3.979585e-07</td>\n",
       "      <td>0.000144</td>\n",
       "      <td>0.235399</td>\n",
       "      <td>0.310043</td>\n",
       "      <td>0.300214</td>\n",
       "    </tr>\n",
       "    <tr>\n",
       "      <th>1</th>\n",
       "      <td>[[[ 66  84  80]\\n  [ 79  99  94]\\n  [103 127 1...</td>\n",
       "      <td>socal-fire</td>\n",
       "      <td>0</td>\n",
       "      <td>48</td>\n",
       "      <td>51</td>\n",
       "      <td>1.062500</td>\n",
       "      <td>2448</td>\n",
       "      <td>82.526416</td>\n",
       "      <td>5.270881</td>\n",
       "      <td>4.534314</td>\n",
       "      <td>0.046197</td>\n",
       "      <td>4.679938e-07</td>\n",
       "      <td>0.000121</td>\n",
       "      <td>0.010621</td>\n",
       "      <td>0.017157</td>\n",
       "      <td>0.075163</td>\n",
       "    </tr>\n",
       "    <tr>\n",
       "      <th>2</th>\n",
       "      <td>[[[ 74 107  95]\\n  [ 74 106  95]\\n  [ 70 100  ...</td>\n",
       "      <td>socal-fire</td>\n",
       "      <td>0</td>\n",
       "      <td>104</td>\n",
       "      <td>140</td>\n",
       "      <td>1.346154</td>\n",
       "      <td>14560</td>\n",
       "      <td>110.527908</td>\n",
       "      <td>4.821204</td>\n",
       "      <td>4.668475</td>\n",
       "      <td>0.043064</td>\n",
       "      <td>2.617666e-07</td>\n",
       "      <td>0.000152</td>\n",
       "      <td>0.098420</td>\n",
       "      <td>0.171429</td>\n",
       "      <td>0.151580</td>\n",
       "    </tr>\n",
       "    <tr>\n",
       "      <th>3</th>\n",
       "      <td>[[[100 114 111]\\n  [102 115 112]\\n  [105 117 1...</td>\n",
       "      <td>socal-fire</td>\n",
       "      <td>0</td>\n",
       "      <td>128</td>\n",
       "      <td>138</td>\n",
       "      <td>1.078125</td>\n",
       "      <td>17664</td>\n",
       "      <td>105.995131</td>\n",
       "      <td>4.830619</td>\n",
       "      <td>4.610054</td>\n",
       "      <td>0.044347</td>\n",
       "      <td>2.846567e-07</td>\n",
       "      <td>0.000125</td>\n",
       "      <td>0.067652</td>\n",
       "      <td>0.125170</td>\n",
       "      <td>0.125566</td>\n",
       "    </tr>\n",
       "    <tr>\n",
       "      <th>4</th>\n",
       "      <td>[[[ 67 100  90]\\n  [ 65  98  88]\\n  [ 60  92  ...</td>\n",
       "      <td>socal-fire</td>\n",
       "      <td>0</td>\n",
       "      <td>65</td>\n",
       "      <td>96</td>\n",
       "      <td>1.476923</td>\n",
       "      <td>6240</td>\n",
       "      <td>93.071047</td>\n",
       "      <td>5.323417</td>\n",
       "      <td>4.728526</td>\n",
       "      <td>0.037459</td>\n",
       "      <td>2.879416e-07</td>\n",
       "      <td>0.000151</td>\n",
       "      <td>0.027404</td>\n",
       "      <td>0.054487</td>\n",
       "      <td>0.114263</td>\n",
       "    </tr>\n",
       "  </tbody>\n",
       "</table>\n",
       "</div>"
      ],
      "text/plain": [
       "                                        image_matrix    disaster  label  \\\n",
       "0  [[[ 50  72  48]\\n  [ 49  71  47]\\n  [ 49  71  ...  socal-fire      0   \n",
       "1  [[[ 66  84  80]\\n  [ 79  99  94]\\n  [103 127 1...  socal-fire      0   \n",
       "2  [[[ 74 107  95]\\n  [ 74 106  95]\\n  [ 70 100  ...  socal-fire      0   \n",
       "3  [[[100 114 111]\\n  [102 115 112]\\n  [105 117 1...  socal-fire      0   \n",
       "4  [[[ 67 100  90]\\n  [ 65  98  88]\\n  [ 60  92  ...  socal-fire      0   \n",
       "\n",
       "   height  width  aspect_ratio  total_pixels  avg_pixel_int   lbp_var  \\\n",
       "0     144    195      1.354167         28080     122.675415  4.963108   \n",
       "1      48     51      1.062500          2448      82.526416  5.270881   \n",
       "2     104    140      1.346154         14560     110.527908  4.821204   \n",
       "3     128    138      1.078125         17664     105.995131  4.830619   \n",
       "4      65     96      1.476923          6240      93.071047  5.323417   \n",
       "\n",
       "   lbp_mean  sobel_mean   gabor_7_var  gabor_3_var  \\\n",
       "0  4.652137    0.048752  3.979585e-07     0.000144   \n",
       "1  4.534314    0.046197  4.679938e-07     0.000121   \n",
       "2  4.668475    0.043064  2.617666e-07     0.000152   \n",
       "3  4.610054    0.044347  2.846567e-07     0.000125   \n",
       "4  4.728526    0.037459  2.879416e-07     0.000151   \n",
       "\n",
       "   area of red pixels at 150 threshold  area of green pixels at 150 threshold  \\\n",
       "0                             0.235399                               0.310043   \n",
       "1                             0.010621                               0.017157   \n",
       "2                             0.098420                               0.171429   \n",
       "3                             0.067652                               0.125170   \n",
       "4                             0.027404                               0.054487   \n",
       "\n",
       "   area of blue pixels at 150 threshold  \n",
       "0                              0.300214  \n",
       "1                              0.075163  \n",
       "2                              0.151580  \n",
       "3                              0.125566  \n",
       "4                              0.114263  "
      ]
     },
     "execution_count": 2,
     "metadata": {},
     "output_type": "execute_result"
    }
   ],
   "source": [
    "testing.head()"
   ]
  },
  {
   "cell_type": "code",
   "execution_count": 3,
   "metadata": {},
   "outputs": [
    {
     "data": {
      "text/html": [
       "<div>\n",
       "<style scoped>\n",
       "    .dataframe tbody tr th:only-of-type {\n",
       "        vertical-align: middle;\n",
       "    }\n",
       "\n",
       "    .dataframe tbody tr th {\n",
       "        vertical-align: top;\n",
       "    }\n",
       "\n",
       "    .dataframe thead th {\n",
       "        text-align: right;\n",
       "    }\n",
       "</style>\n",
       "<table border=\"1\" class=\"dataframe\">\n",
       "  <thead>\n",
       "    <tr style=\"text-align: right;\">\n",
       "      <th></th>\n",
       "      <th>height</th>\n",
       "      <th>width</th>\n",
       "      <th>aspect_ratio</th>\n",
       "      <th>total_pixels</th>\n",
       "      <th>avg_pixel_int</th>\n",
       "      <th>lbp_var</th>\n",
       "      <th>lbp_mean</th>\n",
       "      <th>sobel_mean</th>\n",
       "      <th>gabor_7_var</th>\n",
       "      <th>gabor_3_var</th>\n",
       "      <th>area of red pixels at 150 threshold</th>\n",
       "      <th>area of green pixels at 150 threshold</th>\n",
       "      <th>area of blue pixels at 150 threshold</th>\n",
       "    </tr>\n",
       "  </thead>\n",
       "  <tbody>\n",
       "    <tr>\n",
       "      <th>0</th>\n",
       "      <td>144</td>\n",
       "      <td>195</td>\n",
       "      <td>1.354167</td>\n",
       "      <td>28080</td>\n",
       "      <td>122.675415</td>\n",
       "      <td>4.963108</td>\n",
       "      <td>4.652137</td>\n",
       "      <td>0.048752</td>\n",
       "      <td>3.979585e-07</td>\n",
       "      <td>0.000144</td>\n",
       "      <td>0.235399</td>\n",
       "      <td>0.310043</td>\n",
       "      <td>0.300214</td>\n",
       "    </tr>\n",
       "    <tr>\n",
       "      <th>1</th>\n",
       "      <td>48</td>\n",
       "      <td>51</td>\n",
       "      <td>1.062500</td>\n",
       "      <td>2448</td>\n",
       "      <td>82.526416</td>\n",
       "      <td>5.270881</td>\n",
       "      <td>4.534314</td>\n",
       "      <td>0.046197</td>\n",
       "      <td>4.679938e-07</td>\n",
       "      <td>0.000121</td>\n",
       "      <td>0.010621</td>\n",
       "      <td>0.017157</td>\n",
       "      <td>0.075163</td>\n",
       "    </tr>\n",
       "    <tr>\n",
       "      <th>2</th>\n",
       "      <td>104</td>\n",
       "      <td>140</td>\n",
       "      <td>1.346154</td>\n",
       "      <td>14560</td>\n",
       "      <td>110.527908</td>\n",
       "      <td>4.821204</td>\n",
       "      <td>4.668475</td>\n",
       "      <td>0.043064</td>\n",
       "      <td>2.617666e-07</td>\n",
       "      <td>0.000152</td>\n",
       "      <td>0.098420</td>\n",
       "      <td>0.171429</td>\n",
       "      <td>0.151580</td>\n",
       "    </tr>\n",
       "    <tr>\n",
       "      <th>3</th>\n",
       "      <td>128</td>\n",
       "      <td>138</td>\n",
       "      <td>1.078125</td>\n",
       "      <td>17664</td>\n",
       "      <td>105.995131</td>\n",
       "      <td>4.830619</td>\n",
       "      <td>4.610054</td>\n",
       "      <td>0.044347</td>\n",
       "      <td>2.846567e-07</td>\n",
       "      <td>0.000125</td>\n",
       "      <td>0.067652</td>\n",
       "      <td>0.125170</td>\n",
       "      <td>0.125566</td>\n",
       "    </tr>\n",
       "    <tr>\n",
       "      <th>4</th>\n",
       "      <td>65</td>\n",
       "      <td>96</td>\n",
       "      <td>1.476923</td>\n",
       "      <td>6240</td>\n",
       "      <td>93.071047</td>\n",
       "      <td>5.323417</td>\n",
       "      <td>4.728526</td>\n",
       "      <td>0.037459</td>\n",
       "      <td>2.879416e-07</td>\n",
       "      <td>0.000151</td>\n",
       "      <td>0.027404</td>\n",
       "      <td>0.054487</td>\n",
       "      <td>0.114263</td>\n",
       "    </tr>\n",
       "  </tbody>\n",
       "</table>\n",
       "</div>"
      ],
      "text/plain": [
       "   height  width  aspect_ratio  total_pixels  avg_pixel_int   lbp_var  \\\n",
       "0     144    195      1.354167         28080     122.675415  4.963108   \n",
       "1      48     51      1.062500          2448      82.526416  5.270881   \n",
       "2     104    140      1.346154         14560     110.527908  4.821204   \n",
       "3     128    138      1.078125         17664     105.995131  4.830619   \n",
       "4      65     96      1.476923          6240      93.071047  5.323417   \n",
       "\n",
       "   lbp_mean  sobel_mean   gabor_7_var  gabor_3_var  \\\n",
       "0  4.652137    0.048752  3.979585e-07     0.000144   \n",
       "1  4.534314    0.046197  4.679938e-07     0.000121   \n",
       "2  4.668475    0.043064  2.617666e-07     0.000152   \n",
       "3  4.610054    0.044347  2.846567e-07     0.000125   \n",
       "4  4.728526    0.037459  2.879416e-07     0.000151   \n",
       "\n",
       "   area of red pixels at 150 threshold  area of green pixels at 150 threshold  \\\n",
       "0                             0.235399                               0.310043   \n",
       "1                             0.010621                               0.017157   \n",
       "2                             0.098420                               0.171429   \n",
       "3                             0.067652                               0.125170   \n",
       "4                             0.027404                               0.054487   \n",
       "\n",
       "   area of blue pixels at 150 threshold  \n",
       "0                              0.300214  \n",
       "1                              0.075163  \n",
       "2                              0.151580  \n",
       "3                              0.125566  \n",
       "4                              0.114263  "
      ]
     },
     "execution_count": 3,
     "metadata": {},
     "output_type": "execute_result"
    }
   ],
   "source": [
    "features = testing.iloc[:,3:]\n",
    "features.head()"
   ]
  },
  {
   "cell_type": "code",
   "execution_count": 5,
   "metadata": {},
   "outputs": [
    {
     "name": "stdout",
     "output_type": "stream",
     "text": [
      "[[ 0.93467642  1.70177318  0.20911859 ...  1.93977492  1.53702857\n",
      "   1.21162471]\n",
      " [-0.78617119 -0.71435849 -0.11842503 ... -0.6215825  -0.7684106\n",
      "  -0.40147774]\n",
      " [ 0.21765658  0.77894511  0.20012014 ...  0.3788968   0.44593285\n",
      "   0.14625442]\n",
      " ...\n",
      " [-0.10500234 -0.49623549 -0.47589373 ... -0.74260843 -0.89201907\n",
      "  -0.92330001]\n",
      " [ 0.43276254  0.77894511  0.04373327 ... -0.73068011 -0.88455701\n",
      "  -0.92080964]\n",
      " [-0.89372417 -0.17744034  0.90765549 ... -0.74260843 -0.90346014\n",
      "  -0.93611733]]\n"
     ]
    }
   ],
   "source": [
    "from sklearn.preprocessing import StandardScaler\n",
    "\n",
    "scaler = StandardScaler()\n",
    "scaled_features = scaler.fit_transform(features)\n",
    "\n",
    "print(scaled_features)"
   ]
  },
  {
   "cell_type": "code",
   "execution_count": 6,
   "metadata": {},
   "outputs": [
    {
     "data": {
      "text/plain": [
       "array([[ 3.08859502,  2.34329473,  0.21703687, ...,  0.17809034,\n",
       "         0.75821461, -0.14097656],\n",
       "       [-0.36850379, -1.1091002 , -1.68357195, ...,  0.35647295,\n",
       "         0.09009535, -0.18953793],\n",
       "       [ 1.2095683 ,  0.88834521, -0.66790928, ...,  0.07802785,\n",
       "        -0.04084884, -0.01696825],\n",
       "       ...,\n",
       "       [-2.26478695, -0.45807788, -0.01944198, ..., -0.15240872,\n",
       "         0.03829236,  0.02547673],\n",
       "       [-2.8106723 ,  0.9635345 ,  0.33226486, ..., -0.37913578,\n",
       "         0.40826707,  0.02410268],\n",
       "       [-2.6027174 , -0.75411166, -0.14192718, ..., -0.28063473,\n",
       "         0.18937418, -0.0309765 ]])"
      ]
     },
     "execution_count": 6,
     "metadata": {},
     "output_type": "execute_result"
    }
   ],
   "source": [
    "from sklearn.decomposition import PCA\n",
    "\n",
    "n_comps = 0.95\n",
    "pca = PCA(n_comps)\n",
    "pca.fit_transform(scaled_features)"
   ]
  },
  {
   "cell_type": "code",
   "execution_count": 7,
   "metadata": {},
   "outputs": [
    {
     "data": {
      "text/plain": [
       "[<matplotlib.lines.Line2D at 0x22b0ddfef50>]"
      ]
     },
     "execution_count": 7,
     "metadata": {},
     "output_type": "execute_result"
    },
    {
     "data": {
      "image/png": "[encoded data removed]",
      "text/plain": [
       "<Figure size 640x480 with 1 Axes>"
      ]
     },
     "metadata": {},
     "output_type": "display_data"
    }
   ],
   "source": [
    "import matplotlib.pyplot as plt\n",
    "plt.plot(pca.explained_variance_ratio_)"
   ]
  },
  {
   "cell_type": "code",
   "execution_count": 8,
   "metadata": {},
   "outputs": [
    {
     "name": "stdout",
     "output_type": "stream",
     "text": [
      "[0.3751474  0.20946419 0.14832707 0.09055995 0.06857159 0.03673737\n",
      " 0.01621498 0.01391846]\n"
     ]
    }
   ],
   "source": [
    "print(pca.explained_variance_ratio_)"
   ]
  },
  {
   "cell_type": "code",
   "execution_count": 14,
   "metadata": {},
   "outputs": [
    {
     "name": "stdout",
     "output_type": "stream",
     "text": [
      "['pca0' 'pca1' 'pca2' 'pca3' 'pca4' 'pca5' 'pca6' 'pca7']\n"
     ]
    }
   ],
   "source": [
    "print(pca.get_feature_names_out())"
   ]
  },
  {
   "cell_type": "code",
   "execution_count": null,
   "metadata": {},
   "outputs": [],
   "source": []
  }
 ],
 "metadata": {
  "kernelspec": {
   "display_name": "Python 3",
   "language": "python",
   "name": "python3"
  },
  "language_info": {
   "codemirror_mode": {
    "name": "ipython",
    "version": 3
   },
   "file_extension": ".py",
   "mimetype": "text/x-python",
   "name": "python",
   "nbconvert_exporter": "python",
   "pygments_lexer": "ipython3",
   "version": "3.10.6"
  }
 },
 "nbformat": 4,
 "nbformat_minor": 2
}
